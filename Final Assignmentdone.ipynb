{
 "cells": [
  {
   "cell_type": "markdown",
   "metadata": {},
   "source": [
    "<p style=\"text-align:center\">\n",
    "    <a href=\"https://skills.network/?utm_medium=Exinfluencer&utm_source=Exinfluencer&utm_content=000026UJ&utm_term=10006555&utm_id=NA-SkillsNetwork-Channel-SkillsNetworkCoursesIBMDeveloperSkillsNetworkPY0220ENSkillsNetwork900-2022-01-01\" target=\"_blank\">\n",
    "    <img src=\"https://cf-courses-data.s3.us.cloud-object-storage.appdomain.cloud/assets/logos/SN_web_lightmode.png\" width=\"200\" alt=\"Skills Network Logo\">\n",
    "    </a>\n",
    "</p>\n"
   ]
  },
  {
   "cell_type": "markdown",
   "metadata": {},
   "source": [
    "<h1>Extracting and Visualizing Stock Data</h1>\n",
    "<h2>Description</h2>\n"
   ]
  },
  {
   "cell_type": "markdown",
   "metadata": {},
   "source": [
    "Extracting essential data from a dataset and displaying it is a necessary part of data science; therefore individuals can make correct decisions based on the data. In this assignment, you will extract some stock data, you will then display this data in a graph.\n"
   ]
  },
  {
   "cell_type": "markdown",
   "metadata": {},
   "source": [
    "<h2>Table of Contents</h2>\n",
    "<div class=\"alert alert-block alert-info\" style=\"margin-top: 20px\">\n",
    "    <ul>\n",
    "        <li>Define a Function that Makes a Graph</li>\n",
    "        <li>Question 1: Use yfinance to Extract Stock Data</li>\n",
    "        <li>Question 2: Use Webscraping to Extract Tesla Revenue Data</li>\n",
    "        <li>Question 3: Use yfinance to Extract Stock Data</li>\n",
    "        <li>Question 4: Use Webscraping to Extract GME Revenue Data</li>\n",
    "        <li>Question 5: Plot Tesla Stock Graph</li>\n",
    "        <li>Question 6: Plot GameStop Stock Graph</li>\n",
    "    </ul>\n",
    "<p>\n",
    "    Estimated Time Needed: <strong>30 min</strong></p>\n",
    "</div>\n",
    "\n",
    "<hr>\n"
   ]
  },
  {
   "cell_type": "markdown",
   "metadata": {},
   "source": [
    "***Note***:- If you are working Locally using anaconda, please uncomment the following code and execute it.\n"
   ]
  },
  {
   "cell_type": "code",
   "execution_count": 17,
   "metadata": {},
   "outputs": [
    {
     "name": "stdout",
     "output_type": "stream",
     "text": [
      "Collecting yfinance==0.2.38\n",
      "  Downloading yfinance-0.2.38-py2.py3-none-any.whl.metadata (11 kB)\n",
      "Requirement already satisfied: pandas>=1.3.0 in c:\\users\\lenovo\\appdata\\local\\programs\\python\\python312\\lib\\site-packages (from yfinance==0.2.38) (2.2.2)\n",
      "Requirement already satisfied: numpy>=1.16.5 in c:\\users\\lenovo\\appdata\\local\\programs\\python\\python312\\lib\\site-packages (from yfinance==0.2.38) (2.0.1)\n",
      "Requirement already satisfied: requests>=2.31 in c:\\users\\lenovo\\appdata\\local\\programs\\python\\python312\\lib\\site-packages (from yfinance==0.2.38) (2.32.3)\n",
      "Requirement already satisfied: multitasking>=0.0.7 in c:\\users\\lenovo\\appdata\\local\\programs\\python\\python312\\lib\\site-packages (from yfinance==0.2.38) (0.0.11)\n",
      "Requirement already satisfied: lxml>=4.9.1 in c:\\users\\lenovo\\appdata\\local\\programs\\python\\python312\\lib\\site-packages (from yfinance==0.2.38) (5.2.2)\n",
      "Collecting appdirs>=1.4.4 (from yfinance==0.2.38)\n",
      "  Downloading appdirs-1.4.4-py2.py3-none-any.whl.metadata (9.0 kB)\n",
      "Requirement already satisfied: pytz>=2022.5 in c:\\users\\lenovo\\appdata\\local\\programs\\python\\python312\\lib\\site-packages (from yfinance==0.2.38) (2024.1)\n",
      "Requirement already satisfied: frozendict>=2.3.4 in c:\\users\\lenovo\\appdata\\local\\programs\\python\\python312\\lib\\site-packages (from yfinance==0.2.38) (2.4.4)\n",
      "Requirement already satisfied: peewee>=3.16.2 in c:\\users\\lenovo\\appdata\\local\\programs\\python\\python312\\lib\\site-packages (from yfinance==0.2.38) (3.17.6)\n",
      "Requirement already satisfied: beautifulsoup4>=4.11.1 in c:\\users\\lenovo\\appdata\\local\\programs\\python\\python312\\lib\\site-packages (from yfinance==0.2.38) (4.12.3)\n",
      "Requirement already satisfied: html5lib>=1.1 in c:\\users\\lenovo\\appdata\\local\\programs\\python\\python312\\lib\\site-packages (from yfinance==0.2.38) (1.1)\n",
      "Requirement already satisfied: soupsieve>1.2 in c:\\users\\lenovo\\appdata\\local\\programs\\python\\python312\\lib\\site-packages (from beautifulsoup4>=4.11.1->yfinance==0.2.38) (2.5)\n",
      "Requirement already satisfied: six>=1.9 in c:\\users\\lenovo\\appdata\\local\\programs\\python\\python312\\lib\\site-packages (from html5lib>=1.1->yfinance==0.2.38) (1.16.0)\n",
      "Requirement already satisfied: webencodings in c:\\users\\lenovo\\appdata\\local\\programs\\python\\python312\\lib\\site-packages (from html5lib>=1.1->yfinance==0.2.38) (0.5.1)\n",
      "Requirement already satisfied: python-dateutil>=2.8.2 in c:\\users\\lenovo\\appdata\\local\\programs\\python\\python312\\lib\\site-packages (from pandas>=1.3.0->yfinance==0.2.38) (2.9.0.post0)\n",
      "Requirement already satisfied: tzdata>=2022.7 in c:\\users\\lenovo\\appdata\\local\\programs\\python\\python312\\lib\\site-packages (from pandas>=1.3.0->yfinance==0.2.38) (2024.1)\n",
      "Requirement already satisfied: charset-normalizer<4,>=2 in c:\\users\\lenovo\\appdata\\local\\programs\\python\\python312\\lib\\site-packages (from requests>=2.31->yfinance==0.2.38) (3.3.2)\n",
      "Requirement already satisfied: idna<4,>=2.5 in c:\\users\\lenovo\\appdata\\local\\programs\\python\\python312\\lib\\site-packages (from requests>=2.31->yfinance==0.2.38) (3.7)\n",
      "Requirement already satisfied: urllib3<3,>=1.21.1 in c:\\users\\lenovo\\appdata\\local\\programs\\python\\python312\\lib\\site-packages (from requests>=2.31->yfinance==0.2.38) (2.2.2)\n",
      "Requirement already satisfied: certifi>=2017.4.17 in c:\\users\\lenovo\\appdata\\local\\programs\\python\\python312\\lib\\site-packages (from requests>=2.31->yfinance==0.2.38) (2024.6.2)\n",
      "Downloading yfinance-0.2.38-py2.py3-none-any.whl (72 kB)\n",
      "   ---------------------------------------- 0.0/73.0 kB ? eta -:--:--\n",
      "   ---------------------------------------- 0.0/73.0 kB ? eta -:--:--\n",
      "   ----- ---------------------------------- 10.2/73.0 kB ? eta -:--:--\n",
      "   ---------------- ----------------------- 30.7/73.0 kB 435.7 kB/s eta 0:00:01\n",
      "   --------------------------------- ------ 61.4/73.0 kB 469.7 kB/s eta 0:00:01\n",
      "   ---------------------------------------- 73.0/73.0 kB 448.2 kB/s eta 0:00:00\n",
      "Downloading appdirs-1.4.4-py2.py3-none-any.whl (9.6 kB)\n",
      "Installing collected packages: appdirs, yfinance\n",
      "  Attempting uninstall: yfinance\n",
      "    Found existing installation: yfinance 0.2.41\n",
      "    Uninstalling yfinance-0.2.41:\n",
      "      Successfully uninstalled yfinance-0.2.41\n",
      "Successfully installed appdirs-1.4.4 yfinance-0.2.38\n"
     ]
    },
    {
     "name": "stderr",
     "output_type": "stream",
     "text": [
      "\n",
      "[notice] A new release of pip is available: 24.0 -> 24.2\n",
      "[notice] To update, run: python.exe -m pip install --upgrade pip\n"
     ]
    },
    {
     "name": "stdout",
     "output_type": "stream",
     "text": [
      "Requirement already satisfied: pandas==2.2.2 in c:\\users\\lenovo\\appdata\\local\\programs\\python\\python312\\lib\\site-packages (2.2.2)\n",
      "Requirement already satisfied: numpy>=1.26.0 in c:\\users\\lenovo\\appdata\\local\\programs\\python\\python312\\lib\\site-packages (from pandas==2.2.2) (2.0.1)\n",
      "Requirement already satisfied: python-dateutil>=2.8.2 in c:\\users\\lenovo\\appdata\\local\\programs\\python\\python312\\lib\\site-packages (from pandas==2.2.2) (2.9.0.post0)\n",
      "Requirement already satisfied: pytz>=2020.1 in c:\\users\\lenovo\\appdata\\local\\programs\\python\\python312\\lib\\site-packages (from pandas==2.2.2) (2024.1)\n",
      "Requirement already satisfied: tzdata>=2022.7 in c:\\users\\lenovo\\appdata\\local\\programs\\python\\python312\\lib\\site-packages (from pandas==2.2.2) (2024.1)\n",
      "Requirement already satisfied: six>=1.5 in c:\\users\\lenovo\\appdata\\local\\programs\\python\\python312\\lib\\site-packages (from python-dateutil>=2.8.2->pandas==2.2.2) (1.16.0)\n"
     ]
    },
    {
     "name": "stderr",
     "output_type": "stream",
     "text": [
      "\n",
      "[notice] A new release of pip is available: 24.0 -> 24.2\n",
      "[notice] To update, run: python.exe -m pip install --upgrade pip\n"
     ]
    },
    {
     "name": "stdout",
     "output_type": "stream",
     "text": [
      "Requirement already satisfied: nbformat in c:\\users\\lenovo\\appdata\\local\\programs\\python\\python312\\lib\\site-packages (5.10.4)\n",
      "Requirement already satisfied: fastjsonschema>=2.15 in c:\\users\\lenovo\\appdata\\local\\programs\\python\\python312\\lib\\site-packages (from nbformat) (2.20.0)\n",
      "Requirement already satisfied: jsonschema>=2.6 in c:\\users\\lenovo\\appdata\\local\\programs\\python\\python312\\lib\\site-packages (from nbformat) (4.22.0)\n",
      "Requirement already satisfied: jupyter-core!=5.0.*,>=4.12 in c:\\users\\lenovo\\appdata\\local\\programs\\python\\python312\\lib\\site-packages (from nbformat) (5.7.2)\n",
      "Requirement already satisfied: traitlets>=5.1 in c:\\users\\lenovo\\appdata\\local\\programs\\python\\python312\\lib\\site-packages (from nbformat) (5.14.3)\n",
      "Requirement already satisfied: attrs>=22.2.0 in c:\\users\\lenovo\\appdata\\local\\programs\\python\\python312\\lib\\site-packages (from jsonschema>=2.6->nbformat) (23.2.0)\n",
      "Requirement already satisfied: jsonschema-specifications>=2023.03.6 in c:\\users\\lenovo\\appdata\\local\\programs\\python\\python312\\lib\\site-packages (from jsonschema>=2.6->nbformat) (2023.12.1)\n",
      "Requirement already satisfied: referencing>=0.28.4 in c:\\users\\lenovo\\appdata\\local\\programs\\python\\python312\\lib\\site-packages (from jsonschema>=2.6->nbformat) (0.35.1)\n",
      "Requirement already satisfied: rpds-py>=0.7.1 in c:\\users\\lenovo\\appdata\\local\\programs\\python\\python312\\lib\\site-packages (from jsonschema>=2.6->nbformat) (0.18.1)\n",
      "Requirement already satisfied: platformdirs>=2.5 in c:\\users\\lenovo\\appdata\\local\\programs\\python\\python312\\lib\\site-packages (from jupyter-core!=5.0.*,>=4.12->nbformat) (4.2.2)\n",
      "Requirement already satisfied: pywin32>=300 in c:\\users\\lenovo\\appdata\\local\\programs\\python\\python312\\lib\\site-packages (from jupyter-core!=5.0.*,>=4.12->nbformat) (306)\n"
     ]
    },
    {
     "name": "stderr",
     "output_type": "stream",
     "text": [
      "\n",
      "[notice] A new release of pip is available: 24.0 -> 24.2\n",
      "[notice] To update, run: python.exe -m pip install --upgrade pip\n"
     ]
    }
   ],
   "source": [
    "!pip install yfinance==0.2.38\n",
    "!pip install pandas==2.2.2\n",
    "!pip install nbformat"
   ]
  },
  {
   "cell_type": "code",
   "execution_count": 19,
   "metadata": {},
   "outputs": [
    {
     "name": "stdout",
     "output_type": "stream",
     "text": [
      "Requirement already satisfied: yfinance in c:\\users\\lenovo\\appdata\\local\\programs\\python\\python312\\lib\\site-packages (0.2.38)"
     ]
    },
    {
     "name": "stderr",
     "output_type": "stream",
     "text": [
      "\n",
      "[notice] A new release of pip is available: 24.0 -> 24.2\n",
      "[notice] To update, run: python.exe -m pip install --upgrade pip\n"
     ]
    },
    {
     "name": "stdout",
     "output_type": "stream",
     "text": [
      "\n",
      "Requirement already satisfied: pandas>=1.3.0 in c:\\users\\lenovo\\appdata\\local\\programs\\python\\python312\\lib\\site-packages (from yfinance) (2.2.2)\n",
      "Requirement already satisfied: numpy>=1.16.5 in c:\\users\\lenovo\\appdata\\local\\programs\\python\\python312\\lib\\site-packages (from yfinance) (2.0.1)\n",
      "Requirement already satisfied: requests>=2.31 in c:\\users\\lenovo\\appdata\\local\\programs\\python\\python312\\lib\\site-packages (from yfinance) (2.32.3)\n",
      "Requirement already satisfied: multitasking>=0.0.7 in c:\\users\\lenovo\\appdata\\local\\programs\\python\\python312\\lib\\site-packages (from yfinance) (0.0.11)\n",
      "Requirement already satisfied: lxml>=4.9.1 in c:\\users\\lenovo\\appdata\\local\\programs\\python\\python312\\lib\\site-packages (from yfinance) (5.2.2)\n",
      "Requirement already satisfied: appdirs>=1.4.4 in c:\\users\\lenovo\\appdata\\local\\programs\\python\\python312\\lib\\site-packages (from yfinance) (1.4.4)\n",
      "Requirement already satisfied: pytz>=2022.5 in c:\\users\\lenovo\\appdata\\local\\programs\\python\\python312\\lib\\site-packages (from yfinance) (2024.1)\n",
      "Requirement already satisfied: frozendict>=2.3.4 in c:\\users\\lenovo\\appdata\\local\\programs\\python\\python312\\lib\\site-packages (from yfinance) (2.4.4)\n",
      "Requirement already satisfied: peewee>=3.16.2 in c:\\users\\lenovo\\appdata\\local\\programs\\python\\python312\\lib\\site-packages (from yfinance) (3.17.6)\n",
      "Requirement already satisfied: beautifulsoup4>=4.11.1 in c:\\users\\lenovo\\appdata\\local\\programs\\python\\python312\\lib\\site-packages (from yfinance) (4.12.3)\n",
      "Requirement already satisfied: html5lib>=1.1 in c:\\users\\lenovo\\appdata\\local\\programs\\python\\python312\\lib\\site-packages (from yfinance) (1.1)\n",
      "Requirement already satisfied: soupsieve>1.2 in c:\\users\\lenovo\\appdata\\local\\programs\\python\\python312\\lib\\site-packages (from beautifulsoup4>=4.11.1->yfinance) (2.5)\n",
      "Requirement already satisfied: six>=1.9 in c:\\users\\lenovo\\appdata\\local\\programs\\python\\python312\\lib\\site-packages (from html5lib>=1.1->yfinance) (1.16.0)\n",
      "Requirement already satisfied: webencodings in c:\\users\\lenovo\\appdata\\local\\programs\\python\\python312\\lib\\site-packages (from html5lib>=1.1->yfinance) (0.5.1)\n",
      "Requirement already satisfied: python-dateutil>=2.8.2 in c:\\users\\lenovo\\appdata\\local\\programs\\python\\python312\\lib\\site-packages (from pandas>=1.3.0->yfinance) (2.9.0.post0)\n",
      "Requirement already satisfied: tzdata>=2022.7 in c:\\users\\lenovo\\appdata\\local\\programs\\python\\python312\\lib\\site-packages (from pandas>=1.3.0->yfinance) (2024.1)\n",
      "Requirement already satisfied: charset-normalizer<4,>=2 in c:\\users\\lenovo\\appdata\\local\\programs\\python\\python312\\lib\\site-packages (from requests>=2.31->yfinance) (3.3.2)\n",
      "Requirement already satisfied: idna<4,>=2.5 in c:\\users\\lenovo\\appdata\\local\\programs\\python\\python312\\lib\\site-packages (from requests>=2.31->yfinance) (3.7)\n",
      "Requirement already satisfied: urllib3<3,>=1.21.1 in c:\\users\\lenovo\\appdata\\local\\programs\\python\\python312\\lib\\site-packages (from requests>=2.31->yfinance) (2.2.2)\n",
      "Requirement already satisfied: certifi>=2017.4.17 in c:\\users\\lenovo\\appdata\\local\\programs\\python\\python312\\lib\\site-packages (from requests>=2.31->yfinance) (2024.6.2)\n",
      "Requirement already satisfied: bs4 in c:\\users\\lenovo\\appdata\\local\\programs\\python\\python312\\lib\\site-packages (0.0.2)\n",
      "Requirement already satisfied: beautifulsoup4 in c:\\users\\lenovo\\appdata\\local\\programs\\python\\python312\\lib\\site-packages (from bs4) (4.12.3)\n",
      "Requirement already satisfied: soupsieve>1.2 in c:\\users\\lenovo\\appdata\\local\\programs\\python\\python312\\lib\\site-packages (from beautifulsoup4->bs4) (2.5)\n"
     ]
    },
    {
     "name": "stderr",
     "output_type": "stream",
     "text": [
      "\n",
      "[notice] A new release of pip is available: 24.0 -> 24.2\n",
      "[notice] To update, run: python.exe -m pip install --upgrade pip\n"
     ]
    },
    {
     "name": "stdout",
     "output_type": "stream",
     "text": [
      "Requirement already satisfied: nbformat in c:\\users\\lenovo\\appdata\\local\\programs\\python\\python312\\lib\\site-packages (5.10.4)\n",
      "Requirement already satisfied: fastjsonschema>=2.15 in c:\\users\\lenovo\\appdata\\local\\programs\\python\\python312\\lib\\site-packages (from nbformat) (2.20.0)\n",
      "Requirement already satisfied: jsonschema>=2.6 in c:\\users\\lenovo\\appdata\\local\\programs\\python\\python312\\lib\\site-packages (from nbformat) (4.22.0)\n",
      "Requirement already satisfied: jupyter-core!=5.0.*,>=4.12 in c:\\users\\lenovo\\appdata\\local\\programs\\python\\python312\\lib\\site-packages (from nbformat) (5.7.2)\n",
      "Requirement already satisfied: traitlets>=5.1 in c:\\users\\lenovo\\appdata\\local\\programs\\python\\python312\\lib\\site-packages (from nbformat) (5.14.3)\n",
      "Requirement already satisfied: attrs>=22.2.0 in c:\\users\\lenovo\\appdata\\local\\programs\\python\\python312\\lib\\site-packages (from jsonschema>=2.6->nbformat) (23.2.0)\n",
      "Requirement already satisfied: jsonschema-specifications>=2023.03.6 in c:\\users\\lenovo\\appdata\\local\\programs\\python\\python312\\lib\\site-packages (from jsonschema>=2.6->nbformat) (2023.12.1)\n",
      "Requirement already satisfied: referencing>=0.28.4 in c:\\users\\lenovo\\appdata\\local\\programs\\python\\python312\\lib\\site-packages (from jsonschema>=2.6->nbformat) (0.35.1)\n",
      "Requirement already satisfied: rpds-py>=0.7.1 in c:\\users\\lenovo\\appdata\\local\\programs\\python\\python312\\lib\\site-packages (from jsonschema>=2.6->nbformat) (0.18.1)\n",
      "Requirement already satisfied: platformdirs>=2.5 in c:\\users\\lenovo\\appdata\\local\\programs\\python\\python312\\lib\\site-packages (from jupyter-core!=5.0.*,>=4.12->nbformat) (4.2.2)\n",
      "Requirement already satisfied: pywin32>=300 in c:\\users\\lenovo\\appdata\\local\\programs\\python\\python312\\lib\\site-packages (from jupyter-core!=5.0.*,>=4.12->nbformat) (306)\n"
     ]
    },
    {
     "name": "stderr",
     "output_type": "stream",
     "text": [
      "\n",
      "[notice] A new release of pip is available: 24.0 -> 24.2\n",
      "[notice] To update, run: python.exe -m pip install --upgrade pip\n"
     ]
    }
   ],
   "source": [
    "!pip install yfinance\n",
    "!pip install bs4\n",
    "!pip install nbformat\n"
   ]
  },
  {
   "cell_type": "code",
   "execution_count": 43,
   "metadata": {},
   "outputs": [
    {
     "name": "stdout",
     "output_type": "stream",
     "text": [
      "Collecting plotly\n",
      "  Downloading plotly-5.23.0-py3-none-any.whl.metadata (7.3 kB)\n",
      "Collecting tenacity>=6.2.0 (from plotly)\n",
      "  Downloading tenacity-9.0.0-py3-none-any.whl.metadata (1.2 kB)\n",
      "Requirement already satisfied: packaging in c:\\users\\lenovo\\appdata\\local\\programs\\python\\python312\\lib\\site-packages (from plotly) (24.1)\n",
      "Downloading plotly-5.23.0-py3-none-any.whl (17.3 MB)\n",
      "   ---------------------------------------- 0.0/17.3 MB ? eta -:--:--\n",
      "   ---------------------------------------- 0.0/17.3 MB ? eta -:--:--\n",
      "   ---------------------------------------- 0.0/17.3 MB ? eta -:--:--\n",
      "   ---------------------------------------- 0.0/17.3 MB ? eta -:--:--\n",
      "   ---------------------------------------- 0.0/17.3 MB ? eta -:--:--\n",
      "   ---------------------------------------- 0.0/17.3 MB ? eta -:--:--\n",
      "   ---------------------------------------- 0.0/17.3 MB ? eta -:--:--\n",
      "   ---------------------------------------- 0.0/17.3 MB ? eta -:--:--\n",
      "   ---------------------------------------- 0.0/17.3 MB ? eta -:--:--\n",
      "   ---------------------------------------- 0.0/17.3 MB ? eta -:--:--\n",
      "   ---------------------------------------- 0.0/17.3 MB ? eta -:--:--\n",
      "   ---------------------------------------- 0.0/17.3 MB ? eta -:--:--\n",
      "   ---------------------------------------- 0.0/17.3 MB ? eta -:--:--\n",
      "   ---------------------------------------- 0.0/17.3 MB ? eta -:--:--\n",
      "   ---------------------------------------- 0.0/17.3 MB ? eta -:--:--\n",
      "   ---------------------------------------- 0.0/17.3 MB ? eta -:--:--\n",
      "   ---------------------------------------- 0.0/17.3 MB ? eta -:--:--\n",
      "   ---------------------------------------- 0.0/17.3 MB ? eta -:--:--\n",
      "   ---------------------------------------- 0.0/17.3 MB ? eta -:--:--\n",
      "   ---------------------------------------- 0.0/17.3 MB ? eta -:--:--\n",
      "   ---------------------------------------- 0.0/17.3 MB ? eta -:--:--\n",
      "   ---------------------------------------- 0.0/17.3 MB ? eta -:--:--\n",
      "   ---------------------------------------- 0.0/17.3 MB ? eta -:--:--\n",
      "   ---------------------------------------- 0.0/17.3 MB ? eta -:--:--\n",
      "   ---------------------------------------- 0.0/17.3 MB ? eta -:--:--\n",
      "   ---------------------------------------- 0.0/17.3 MB ? eta -:--:--\n",
      "   ---------------------------------------- 0.0/17.3 MB ? eta -:--:--\n",
      "   ---------------------------------------- 0.0/17.3 MB ? eta -:--:--\n",
      "   ---------------------------------------- 0.0/17.3 MB ? eta -:--:--\n",
      "   ---------------------------------------- 0.0/17.3 MB ? eta -:--:--\n",
      "   ---------------------------------------- 0.0/17.3 MB ? eta -:--:--\n",
      "   ---------------------------------------- 0.0/17.3 MB ? eta -:--:--\n",
      "   ---------------------------------------- 0.0/17.3 MB ? eta -:--:--\n",
      "   ---------------------------------------- 0.0/17.3 MB ? eta -:--:--\n",
      "   ---------------------------------------- 0.0/17.3 MB ? eta -:--:--\n",
      "   ---------------------------------------- 0.0/17.3 MB ? eta -:--:--\n",
      "   ---------------------------------------- 0.0/17.3 MB ? eta -:--:--\n",
      "   ---------------------------------------- 0.0/17.3 MB ? eta -:--:--\n",
      "   ---------------------------------------- 0.0/17.3 MB ? eta -:--:--\n",
      "   ---------------------------------------- 0.0/17.3 MB ? eta -:--:--\n",
      "   ---------------------------------------- 0.0/17.3 MB ? eta -:--:--\n",
      "   ---------------------------------------- 0.0/17.3 MB ? eta -:--:--\n",
      "   ---------------------------------------- 0.0/17.3 MB ? eta -:--:--\n",
      "   ---------------------------------------- 0.0/17.3 MB ? eta -:--:--\n",
      "   ---------------------------------------- 0.0/17.3 MB ? eta -:--:--\n",
      "   ---------------------------------------- 0.0/17.3 MB ? eta -:--:--\n",
      "   ---------------------------------------- 0.0/17.3 MB ? eta -:--:--\n",
      "   ---------------------------------------- 0.0/17.3 MB ? eta -:--:--\n",
      "   ---------------------------------------- 0.0/17.3 MB ? eta -:--:--\n",
      "   ---------------------------------------- 0.0/17.3 MB ? eta -:--:--\n",
      "   ---------------------------------------- 0.0/17.3 MB ? eta -:--:--\n",
      "   ---------------------------------------- 0.0/17.3 MB ? eta -:--:--\n",
      "   ---------------------------------------- 0.0/17.3 MB ? eta -:--:--\n",
      "   ---------------------------------------- 0.0/17.3 MB ? eta -:--:--\n",
      "   ---------------------------------------- 0.0/17.3 MB ? eta -:--:--\n",
      "   ---------------------------------------- 0.0/17.3 MB ? eta -:--:--\n",
      "   ---------------------------------------- 0.0/17.3 MB ? eta -:--:--\n",
      "   ---------------------------------------- 0.0/17.3 MB ? eta -:--:--\n",
      "   ---------------------------------------- 0.0/17.3 MB ? eta -:--:--\n",
      "   ---------------------------------------- 0.0/17.3 MB ? eta -:--:--\n",
      "   ---------------------------------------- 0.0/17.3 MB ? eta -:--:--\n",
      "   ---------------------------------------- 0.0/17.3 MB ? eta -:--:--\n",
      "   ---------------------------------------- 0.0/17.3 MB ? eta -:--:--\n",
      "   ---------------------------------------- 0.0/17.3 MB ? eta -:--:--\n",
      "   ---------------------------------------- 0.0/17.3 MB ? eta -:--:--\n",
      "   ---------------------------------------- 0.0/17.3 MB ? eta -:--:--\n",
      "   ---------------------------------------- 0.0/17.3 MB ? eta -:--:--\n",
      "   ---------------------------------------- 0.0/17.3 MB ? eta -:--:--\n",
      "   ---------------------------------------- 0.0/17.3 MB ? eta -:--:--\n",
      "   ---------------------------------------- 0.0/17.3 MB ? eta -:--:--\n",
      "   ---------------------------------------- 0.0/17.3 MB ? eta -:--:--\n",
      "   ---------------------------------------- 0.0/17.3 MB 39.3 kB/s eta 0:07:20\n",
      "   ---------------------------------------- 0.0/17.3 MB 39.3 kB/s eta 0:07:20\n",
      "   ---------------------------------------- 0.0/17.3 MB 39.3 kB/s eta 0:07:20\n",
      "   ---------------------------------------- 0.0/17.3 MB 39.3 kB/s eta 0:07:20\n",
      "   ---------------------------------------- 0.0/17.3 MB 39.3 kB/s eta 0:07:20\n",
      "   ---------------------------------------- 0.0/17.3 MB 39.3 kB/s eta 0:07:20\n",
      "   ---------------------------------------- 0.0/17.3 MB 39.3 kB/s eta 0:07:20\n",
      "   ---------------------------------------- 0.0/17.3 MB 39.3 kB/s eta 0:07:20\n",
      "   ---------------------------------------- 0.0/17.3 MB 39.3 kB/s eta 0:07:20\n",
      "   ---------------------------------------- 0.0/17.3 MB 39.3 kB/s eta 0:07:20\n",
      "   ---------------------------------------- 0.0/17.3 MB 39.3 kB/s eta 0:07:20\n",
      "   ---------------------------------------- 0.0/17.3 MB 39.3 kB/s eta 0:07:20\n",
      "   ---------------------------------------- 0.0/17.3 MB 39.3 kB/s eta 0:07:20\n",
      "   ---------------------------------------- 0.0/17.3 MB 39.3 kB/s eta 0:07:20\n",
      "   ---------------------------------------- 0.0/17.3 MB 39.3 kB/s eta 0:07:20\n",
      "   ---------------------------------------- 0.0/17.3 MB 39.3 kB/s eta 0:07:20\n",
      "   ---------------------------------------- 0.0/17.3 MB 39.3 kB/s eta 0:07:20\n",
      "   ---------------------------------------- 0.0/17.3 MB 39.3 kB/s eta 0:07:20\n",
      "   ---------------------------------------- 0.0/17.3 MB 39.3 kB/s eta 0:07:20\n",
      "   ---------------------------------------- 0.0/17.3 MB 39.3 kB/s eta 0:07:20\n",
      "   ---------------------------------------- 0.0/17.3 MB 39.3 kB/s eta 0:07:20\n",
      "   ---------------------------------------- 0.0/17.3 MB 39.3 kB/s eta 0:07:20\n",
      "   ---------------------------------------- 0.0/17.3 MB 39.3 kB/s eta 0:07:20\n",
      "   ---------------------------------------- 0.0/17.3 MB 39.3 kB/s eta 0:07:20\n",
      "   ---------------------------------------- 0.0/17.3 MB 39.3 kB/s eta 0:07:20\n",
      "   ---------------------------------------- 0.0/17.3 MB 39.3 kB/s eta 0:07:20\n",
      "   ---------------------------------------- 0.0/17.3 MB 39.3 kB/s eta 0:07:20\n",
      "   ---------------------------------------- 0.1/17.3 MB 25.0 kB/s eta 0:11:31\n",
      "   ---------------------------------------- 0.1/17.3 MB 25.0 kB/s eta 0:11:31\n",
      "   ---------------------------------------- 0.1/17.3 MB 25.0 kB/s eta 0:11:31\n",
      "   ---------------------------------------- 0.1/17.3 MB 25.0 kB/s eta 0:11:31\n",
      "   ---------------------------------------- 0.1/17.3 MB 31.9 kB/s eta 0:09:02\n",
      "   ---------------------------------------- 0.1/17.3 MB 31.9 kB/s eta 0:09:02\n",
      "   ---------------------------------------- 0.1/17.3 MB 31.9 kB/s eta 0:09:02\n",
      "   ---------------------------------------- 0.1/17.3 MB 31.9 kB/s eta 0:09:02\n",
      "   ---------------------------------------- 0.1/17.3 MB 31.9 kB/s eta 0:09:02\n",
      "   ---------------------------------------- 0.1/17.3 MB 31.9 kB/s eta 0:09:02\n",
      "   ---------------------------------------- 0.1/17.3 MB 31.9 kB/s eta 0:09:02\n",
      "   ---------------------------------------- 0.1/17.3 MB 31.9 kB/s eta 0:09:02\n",
      "   ---------------------------------------- 0.1/17.3 MB 31.9 kB/s eta 0:09:02\n",
      "   ---------------------------------------- 0.1/17.3 MB 31.9 kB/s eta 0:09:02\n",
      "   ---------------------------------------- 0.1/17.3 MB 30.1 kB/s eta 0:09:33\n",
      "   ---------------------------------------- 0.1/17.3 MB 30.1 kB/s eta 0:09:33\n",
      "   ---------------------------------------- 0.1/17.3 MB 30.1 kB/s eta 0:09:33\n",
      "   ---------------------------------------- 0.1/17.3 MB 30.1 kB/s eta 0:09:33\n",
      "   ---------------------------------------- 0.1/17.3 MB 30.1 kB/s eta 0:09:33\n",
      "   ---------------------------------------- 0.1/17.3 MB 30.1 kB/s eta 0:09:33\n",
      "   ---------------------------------------- 0.1/17.3 MB 30.1 kB/s eta 0:09:33\n",
      "   ---------------------------------------- 0.1/17.3 MB 30.1 kB/s eta 0:09:33\n",
      "   ---------------------------------------- 0.1/17.3 MB 33.1 kB/s eta 0:08:41\n",
      "   ---------------------------------------- 0.1/17.3 MB 33.1 kB/s eta 0:08:41\n",
      "   ---------------------------------------- 0.1/17.3 MB 33.1 kB/s eta 0:08:41\n",
      "   ---------------------------------------- 0.1/17.3 MB 33.1 kB/s eta 0:08:41\n",
      "   ---------------------------------------- 0.1/17.3 MB 33.1 kB/s eta 0:08:41\n",
      "   ---------------------------------------- 0.1/17.3 MB 34.2 kB/s eta 0:08:24\n",
      "   ---------------------------------------- 0.1/17.3 MB 34.2 kB/s eta 0:08:24\n",
      "   ---------------------------------------- 0.1/17.3 MB 34.2 kB/s eta 0:08:24\n",
      "   ---------------------------------------- 0.1/17.3 MB 34.2 kB/s eta 0:08:24\n",
      "   ---------------------------------------- 0.1/17.3 MB 34.2 kB/s eta 0:08:24\n",
      "   ---------------------------------------- 0.1/17.3 MB 37.7 kB/s eta 0:07:36\n",
      "   ---------------------------------------- 0.2/17.3 MB 42.9 kB/s eta 0:06:40\n",
      "   ---------------------------------------- 0.2/17.3 MB 42.9 kB/s eta 0:06:40\n",
      "   ---------------------------------------- 0.2/17.3 MB 42.9 kB/s eta 0:06:40\n",
      "   ---------------------------------------- 0.2/17.3 MB 44.1 kB/s eta 0:06:30\n",
      "   ---------------------------------------- 0.2/17.3 MB 44.1 kB/s eta 0:06:30\n",
      "   ---------------------------------------- 0.2/17.3 MB 48.0 kB/s eta 0:05:58\n",
      "   ---------------------------------------- 0.2/17.3 MB 48.0 kB/s eta 0:05:58\n",
      "   ---------------------------------------- 0.2/17.3 MB 49.6 kB/s eta 0:05:46\n",
      "   ---------------------------------------- 0.2/17.3 MB 49.6 kB/s eta 0:05:46\n",
      "    --------------------------------------- 0.2/17.3 MB 53.8 kB/s eta 0:05:19\n",
      "    --------------------------------------- 0.2/17.3 MB 58.2 kB/s eta 0:04:54\n",
      "    --------------------------------------- 0.2/17.3 MB 58.2 kB/s eta 0:04:54\n",
      "    --------------------------------------- 0.2/17.3 MB 58.2 kB/s eta 0:04:54\n",
      "    --------------------------------------- 0.3/17.3 MB 58.7 kB/s eta 0:04:51\n",
      "    --------------------------------------- 0.3/17.3 MB 58.7 kB/s eta 0:04:51\n",
      "    --------------------------------------- 0.3/17.3 MB 58.7 kB/s eta 0:04:51\n",
      "    --------------------------------------- 0.3/17.3 MB 58.7 kB/s eta 0:04:51\n",
      "    --------------------------------------- 0.3/17.3 MB 60.9 kB/s eta 0:04:41\n",
      "    --------------------------------------- 0.3/17.3 MB 60.9 kB/s eta 0:04:41\n",
      "    --------------------------------------- 0.3/17.3 MB 61.9 kB/s eta 0:04:36\n",
      "    --------------------------------------- 0.3/17.3 MB 65.8 kB/s eta 0:04:19\n",
      "    --------------------------------------- 0.3/17.3 MB 69.6 kB/s eta 0:04:05\n",
      "    --------------------------------------- 0.3/17.3 MB 70.8 kB/s eta 0:04:00\n",
      "    --------------------------------------- 0.4/17.3 MB 76.5 kB/s eta 0:03:42\n",
      "    --------------------------------------- 0.4/17.3 MB 76.5 kB/s eta 0:03:42\n",
      "    --------------------------------------- 0.4/17.3 MB 83.5 kB/s eta 0:03:23\n",
      "    --------------------------------------- 0.4/17.3 MB 83.5 kB/s eta 0:03:23\n",
      "    --------------------------------------- 0.4/17.3 MB 84.6 kB/s eta 0:03:20\n",
      "   - -------------------------------------- 0.5/17.3 MB 89.5 kB/s eta 0:03:09\n",
      "   - -------------------------------------- 0.5/17.3 MB 89.5 kB/s eta 0:03:09\n",
      "   - -------------------------------------- 0.5/17.3 MB 89.5 kB/s eta 0:03:09\n",
      "   - -------------------------------------- 0.5/17.3 MB 95.1 kB/s eta 0:02:58\n",
      "   - -------------------------------------- 0.5/17.3 MB 95.1 kB/s eta 0:02:58\n",
      "   - -------------------------------------- 0.5/17.3 MB 99.3 kB/s eta 0:02:50\n",
      "   - -------------------------------------- 0.5/17.3 MB 99.3 kB/s eta 0:02:50\n",
      "   - -------------------------------------- 0.5/17.3 MB 99.5 kB/s eta 0:02:49\n",
      "   - -------------------------------------- 0.6/17.3 MB 102.5 kB/s eta 0:02:44\n",
      "   - -------------------------------------- 0.6/17.3 MB 107.3 kB/s eta 0:02:37\n",
      "   - -------------------------------------- 0.6/17.3 MB 108.6 kB/s eta 0:02:35\n",
      "   - -------------------------------------- 0.6/17.3 MB 113.0 kB/s eta 0:02:28\n",
      "   - -------------------------------------- 0.6/17.3 MB 116.4 kB/s eta 0:02:24\n",
      "   - -------------------------------------- 0.7/17.3 MB 120.3 kB/s eta 0:02:19\n",
      "   - -------------------------------------- 0.7/17.3 MB 124.8 kB/s eta 0:02:14\n",
      "   - -------------------------------------- 0.7/17.3 MB 127.8 kB/s eta 0:02:10\n",
      "   - -------------------------------------- 0.7/17.3 MB 127.8 kB/s eta 0:02:10\n",
      "   - -------------------------------------- 0.8/17.3 MB 130.7 kB/s eta 0:02:07\n",
      "   - -------------------------------------- 0.8/17.3 MB 130.7 kB/s eta 0:02:07\n",
      "   - -------------------------------------- 0.8/17.3 MB 132.5 kB/s eta 0:02:05\n",
      "   - -------------------------------------- 0.8/17.3 MB 133.5 kB/s eta 0:02:04\n",
      "   - -------------------------------------- 0.8/17.3 MB 137.0 kB/s eta 0:02:01\n",
      "   - -------------------------------------- 0.8/17.3 MB 138.3 kB/s eta 0:02:00\n",
      "   - -------------------------------------- 0.8/17.3 MB 138.6 kB/s eta 0:01:59\n",
      "   -- ------------------------------------- 0.9/17.3 MB 142.2 kB/s eta 0:01:56\n",
      "   -- ------------------------------------- 0.9/17.3 MB 147.9 kB/s eta 0:01:52\n",
      "   -- ------------------------------------- 0.9/17.3 MB 151.7 kB/s eta 0:01:48\n",
      "   -- ------------------------------------- 1.0/17.3 MB 156.0 kB/s eta 0:01:45\n",
      "   -- ------------------------------------- 1.0/17.3 MB 159.7 kB/s eta 0:01:43\n",
      "   -- ------------------------------------- 1.0/17.3 MB 163.4 kB/s eta 0:01:40\n",
      "   -- ------------------------------------- 1.0/17.3 MB 163.4 kB/s eta 0:01:40\n",
      "   -- ------------------------------------- 1.0/17.3 MB 163.4 kB/s eta 0:01:40\n",
      "   -- ------------------------------------- 1.1/17.3 MB 166.6 kB/s eta 0:01:38\n",
      "   -- ------------------------------------- 1.1/17.3 MB 171.0 kB/s eta 0:01:35\n",
      "   -- ------------------------------------- 1.1/17.3 MB 171.0 kB/s eta 0:01:35\n",
      "   -- ------------------------------------- 1.1/17.3 MB 171.0 kB/s eta 0:01:35\n",
      "   -- ------------------------------------- 1.2/17.3 MB 173.5 kB/s eta 0:01:34\n",
      "   -- ------------------------------------- 1.2/17.3 MB 173.5 kB/s eta 0:01:34\n",
      "   -- ------------------------------------- 1.2/17.3 MB 177.2 kB/s eta 0:01:32\n",
      "   -- ------------------------------------- 1.2/17.3 MB 182.0 kB/s eta 0:01:29\n",
      "   -- ------------------------------------- 1.3/17.3 MB 186.8 kB/s eta 0:01:26\n",
      "   --- ------------------------------------ 1.3/17.3 MB 191.5 kB/s eta 0:01:24\n",
      "   --- ------------------------------------ 1.4/17.3 MB 196.6 kB/s eta 0:01:22\n",
      "   --- ------------------------------------ 1.4/17.3 MB 199.3 kB/s eta 0:01:20\n",
      "   --- ------------------------------------ 1.4/17.3 MB 200.3 kB/s eta 0:01:20\n",
      "   --- ------------------------------------ 1.4/17.3 MB 200.3 kB/s eta 0:01:20\n",
      "   --- ------------------------------------ 1.5/17.3 MB 204.9 kB/s eta 0:01:18\n",
      "   --- ------------------------------------ 1.5/17.3 MB 209.8 kB/s eta 0:01:16\n",
      "   --- ------------------------------------ 1.5/17.3 MB 212.2 kB/s eta 0:01:15\n",
      "   --- ------------------------------------ 1.5/17.3 MB 212.2 kB/s eta 0:01:15\n",
      "   --- ------------------------------------ 1.5/17.3 MB 212.2 kB/s eta 0:01:15\n",
      "   --- ------------------------------------ 1.6/17.3 MB 212.4 kB/s eta 0:01:15\n",
      "   --- ------------------------------------ 1.6/17.3 MB 214.3 kB/s eta 0:01:14\n",
      "   --- ------------------------------------ 1.6/17.3 MB 219.8 kB/s eta 0:01:12\n",
      "   --- ------------------------------------ 1.7/17.3 MB 223.1 kB/s eta 0:01:11\n",
      "   --- ------------------------------------ 1.7/17.3 MB 228.9 kB/s eta 0:01:09\n",
      "   ---- ----------------------------------- 1.8/17.3 MB 237.3 kB/s eta 0:01:06\n",
      "   ---- ----------------------------------- 1.9/17.3 MB 242.1 kB/s eta 0:01:04\n",
      "   ---- ----------------------------------- 1.9/17.3 MB 244.6 kB/s eta 0:01:04\n",
      "   ---- ----------------------------------- 2.0/17.3 MB 251.0 kB/s eta 0:01:02\n",
      "   ---- ----------------------------------- 2.0/17.3 MB 257.4 kB/s eta 0:01:00\n",
      "   ---- ----------------------------------- 2.0/17.3 MB 257.4 kB/s eta 0:01:00\n",
      "   ---- ----------------------------------- 2.0/17.3 MB 257.4 kB/s eta 0:01:00\n",
      "   ---- ----------------------------------- 2.1/17.3 MB 259.3 kB/s eta 0:00:59\n",
      "   ---- ----------------------------------- 2.1/17.3 MB 259.3 kB/s eta 0:00:59\n",
      "   ---- ----------------------------------- 2.1/17.3 MB 260.6 kB/s eta 0:00:59\n",
      "   ---- ----------------------------------- 2.1/17.3 MB 260.6 kB/s eta 0:00:59\n",
      "   ---- ----------------------------------- 2.1/17.3 MB 260.6 kB/s eta 0:00:59\n",
      "   ----- ---------------------------------- 2.2/17.3 MB 264.9 kB/s eta 0:00:58\n",
      "   ----- ---------------------------------- 2.2/17.3 MB 264.9 kB/s eta 0:00:58\n",
      "   ----- ---------------------------------- 2.2/17.3 MB 264.9 kB/s eta 0:00:58\n",
      "   ----- ---------------------------------- 2.2/17.3 MB 263.6 kB/s eta 0:00:58\n",
      "   ----- ---------------------------------- 2.2/17.3 MB 265.8 kB/s eta 0:00:57\n",
      "   ----- ---------------------------------- 2.3/17.3 MB 268.5 kB/s eta 0:00:57\n",
      "   ----- ---------------------------------- 2.3/17.3 MB 271.1 kB/s eta 0:00:56\n",
      "   ----- ---------------------------------- 2.3/17.3 MB 271.1 kB/s eta 0:00:56\n",
      "   ----- ---------------------------------- 2.3/17.3 MB 271.1 kB/s eta 0:00:56\n",
      "   ----- ---------------------------------- 2.3/17.3 MB 270.5 kB/s eta 0:00:56\n",
      "   ----- ---------------------------------- 2.4/17.3 MB 274.1 kB/s eta 0:00:55\n",
      "   ----- ---------------------------------- 2.4/17.3 MB 275.1 kB/s eta 0:00:55\n",
      "   ----- ---------------------------------- 2.4/17.3 MB 275.1 kB/s eta 0:00:55\n",
      "   ----- ---------------------------------- 2.5/17.3 MB 279.7 kB/s eta 0:00:54\n",
      "   ----- ---------------------------------- 2.5/17.3 MB 280.1 kB/s eta 0:00:54\n",
      "   ----- ---------------------------------- 2.6/17.3 MB 288.4 kB/s eta 0:00:52\n",
      "   ------ --------------------------------- 2.6/17.3 MB 293.8 kB/s eta 0:00:51\n",
      "   ------ --------------------------------- 2.7/17.3 MB 300.2 kB/s eta 0:00:49\n",
      "   ------ --------------------------------- 2.8/17.3 MB 309.5 kB/s eta 0:00:47\n",
      "   ------ --------------------------------- 2.9/17.3 MB 317.5 kB/s eta 0:00:46\n",
      "   ------ --------------------------------- 3.0/17.3 MB 324.9 kB/s eta 0:00:45\n",
      "   ------ --------------------------------- 3.0/17.3 MB 327.7 kB/s eta 0:00:44\n",
      "   ------ --------------------------------- 3.0/17.3 MB 327.7 kB/s eta 0:00:44\n",
      "   ------ --------------------------------- 3.0/17.3 MB 325.5 kB/s eta 0:00:44\n",
      "   ------- -------------------------------- 3.1/17.3 MB 332.6 kB/s eta 0:00:43\n",
      "   ------- -------------------------------- 3.2/17.3 MB 336.4 kB/s eta 0:00:43\n",
      "   ------- -------------------------------- 3.2/17.3 MB 336.4 kB/s eta 0:00:43\n",
      "   ------- -------------------------------- 3.2/17.3 MB 336.4 kB/s eta 0:00:43\n",
      "   ------- -------------------------------- 3.2/17.3 MB 336.4 kB/s eta 0:00:43\n",
      "   ------- -------------------------------- 3.3/17.3 MB 341.1 kB/s eta 0:00:42\n",
      "   ------- -------------------------------- 3.3/17.3 MB 341.1 kB/s eta 0:00:42\n",
      "   ------- -------------------------------- 3.3/17.3 MB 344.2 kB/s eta 0:00:41\n",
      "   ------- -------------------------------- 3.4/17.3 MB 350.0 kB/s eta 0:00:40\n",
      "   -------- ------------------------------- 3.5/17.3 MB 361.4 kB/s eta 0:00:39\n",
      "   -------- ------------------------------- 3.6/17.3 MB 371.8 kB/s eta 0:00:37\n",
      "   -------- ------------------------------- 3.7/17.3 MB 376.3 kB/s eta 0:00:37\n",
      "   -------- ------------------------------- 3.8/17.3 MB 387.0 kB/s eta 0:00:35\n",
      "   --------- ------------------------------ 3.9/17.3 MB 395.5 kB/s eta 0:00:34\n",
      "   --------- ------------------------------ 4.0/17.3 MB 403.5 kB/s eta 0:00:33\n",
      "   --------- ------------------------------ 4.1/17.3 MB 414.4 kB/s eta 0:00:32\n",
      "   --------- ------------------------------ 4.2/17.3 MB 416.8 kB/s eta 0:00:32\n",
      "   --------- ------------------------------ 4.2/17.3 MB 416.8 kB/s eta 0:00:32\n",
      "   --------- ------------------------------ 4.3/17.3 MB 420.1 kB/s eta 0:00:32\n",
      "   --------- ------------------------------ 4.3/17.3 MB 423.8 kB/s eta 0:00:31\n",
      "   ---------- ----------------------------- 4.4/17.3 MB 429.3 kB/s eta 0:00:31\n",
      "   ---------- ----------------------------- 4.4/17.3 MB 429.3 kB/s eta 0:00:31\n",
      "   ---------- ----------------------------- 4.4/17.3 MB 429.3 kB/s eta 0:00:31\n",
      "   ---------- ----------------------------- 4.5/17.3 MB 436.9 kB/s eta 0:00:30\n",
      "   ---------- ----------------------------- 4.6/17.3 MB 436.2 kB/s eta 0:00:30\n",
      "   ---------- ----------------------------- 4.6/17.3 MB 439.5 kB/s eta 0:00:29\n",
      "   ---------- ----------------------------- 4.8/17.3 MB 452.5 kB/s eta 0:00:28\n",
      "   ----------- ---------------------------- 4.9/17.3 MB 466.0 kB/s eta 0:00:27\n",
      "   ----------- ---------------------------- 5.0/17.3 MB 473.6 kB/s eta 0:00:26\n",
      "   ----------- ---------------------------- 5.1/17.3 MB 478.0 kB/s eta 0:00:26\n",
      "   ----------- ---------------------------- 5.1/17.3 MB 478.0 kB/s eta 0:00:26\n",
      "   ----------- ---------------------------- 5.1/17.3 MB 478.0 kB/s eta 0:00:26\n",
      "   ----------- ---------------------------- 5.1/17.3 MB 475.9 kB/s eta 0:00:26\n",
      "   ----------- ---------------------------- 5.2/17.3 MB 479.2 kB/s eta 0:00:26\n",
      "   ----------- ---------------------------- 5.2/17.3 MB 479.2 kB/s eta 0:00:26\n",
      "   ----------- ---------------------------- 5.2/17.3 MB 479.2 kB/s eta 0:00:26\n",
      "   ----------- ---------------------------- 5.2/17.3 MB 479.2 kB/s eta 0:00:26\n",
      "   ----------- ---------------------------- 5.2/17.3 MB 479.2 kB/s eta 0:00:26\n",
      "   ------------ --------------------------- 5.2/17.3 MB 469.3 kB/s eta 0:00:26\n",
      "   ------------ --------------------------- 5.2/17.3 MB 471.7 kB/s eta 0:00:26\n",
      "   ------------ --------------------------- 5.3/17.3 MB 474.6 kB/s eta 0:00:26\n",
      "   ------------ --------------------------- 5.5/17.3 MB 489.9 kB/s eta 0:00:25\n",
      "   ------------- -------------------------- 5.7/17.3 MB 503.5 kB/s eta 0:00:24\n",
      "   ------------- -------------------------- 5.9/17.3 MB 518.5 kB/s eta 0:00:23\n",
      "   ------------- -------------------------- 6.0/17.3 MB 528.1 kB/s eta 0:00:22\n",
      "   ------------- -------------------------- 6.0/17.3 MB 528.1 kB/s eta 0:00:22\n",
      "   ------------- -------------------------- 6.0/17.3 MB 528.1 kB/s eta 0:00:22\n",
      "   ------------- -------------------------- 6.0/17.3 MB 528.1 kB/s eta 0:00:22\n",
      "   -------------- ------------------------- 6.1/17.3 MB 526.6 kB/s eta 0:00:22\n",
      "   -------------- ------------------------- 6.1/17.3 MB 528.5 kB/s eta 0:00:22\n",
      "   -------------- ------------------------- 6.1/17.3 MB 528.5 kB/s eta 0:00:22\n",
      "   -------------- ------------------------- 6.2/17.3 MB 529.0 kB/s eta 0:00:22\n",
      "   -------------- ------------------------- 6.3/17.3 MB 539.9 kB/s eta 0:00:21\n",
      "   -------------- ------------------------- 6.3/17.3 MB 539.9 kB/s eta 0:00:21\n",
      "   -------------- ------------------------- 6.3/17.3 MB 539.9 kB/s eta 0:00:21\n",
      "   -------------- ------------------------- 6.5/17.3 MB 544.0 kB/s eta 0:00:20\n",
      "   --------------- ------------------------ 6.6/17.3 MB 553.9 kB/s eta 0:00:20\n",
      "   --------------- ------------------------ 6.7/17.3 MB 561.2 kB/s eta 0:00:19\n",
      "   --------------- ------------------------ 6.8/17.3 MB 568.3 kB/s eta 0:00:19\n",
      "   ---------------- ----------------------- 6.9/17.3 MB 576.2 kB/s eta 0:00:19\n",
      "   ---------------- ----------------------- 7.0/17.3 MB 579.3 kB/s eta 0:00:18\n",
      "   ---------------- ----------------------- 7.3/17.3 MB 597.1 kB/s eta 0:00:17\n",
      "   ---------------- ----------------------- 7.3/17.3 MB 601.6 kB/s eta 0:00:17\n",
      "   ----------------- ---------------------- 7.4/17.3 MB 605.9 kB/s eta 0:00:17\n",
      "   ----------------- ---------------------- 7.4/17.3 MB 605.9 kB/s eta 0:00:17\n",
      "   ----------------- ---------------------- 7.5/17.3 MB 606.4 kB/s eta 0:00:17\n",
      "   ----------------- ---------------------- 7.6/17.3 MB 617.3 kB/s eta 0:00:16\n",
      "   ----------------- ---------------------- 7.6/17.3 MB 617.3 kB/s eta 0:00:16\n",
      "   ----------------- ---------------------- 7.6/17.3 MB 617.3 kB/s eta 0:00:16\n",
      "   ----------------- ---------------------- 7.6/17.3 MB 617.3 kB/s eta 0:00:16\n",
      "   ----------------- ---------------------- 7.6/17.3 MB 617.3 kB/s eta 0:00:16\n",
      "   ----------------- ---------------------- 7.6/17.3 MB 617.3 kB/s eta 0:00:16\n",
      "   ----------------- ---------------------- 7.7/17.3 MB 607.6 kB/s eta 0:00:16\n",
      "   ----------------- ---------------------- 7.8/17.3 MB 611.9 kB/s eta 0:00:16\n",
      "   ------------------ --------------------- 7.9/17.3 MB 620.0 kB/s eta 0:00:16\n",
      "   ------------------ --------------------- 8.2/17.3 MB 637.0 kB/s eta 0:00:15\n",
      "   ------------------- -------------------- 8.3/17.3 MB 644.2 kB/s eta 0:00:15\n",
      "   ------------------- -------------------- 8.3/17.3 MB 644.2 kB/s eta 0:00:15\n",
      "   ------------------- -------------------- 8.3/17.3 MB 644.2 kB/s eta 0:00:15\n",
      "   ------------------- -------------------- 8.4/17.3 MB 644.3 kB/s eta 0:00:14\n",
      "   ------------------- -------------------- 8.6/17.3 MB 657.7 kB/s eta 0:00:14\n",
      "   ------------------- -------------------- 8.6/17.3 MB 657.7 kB/s eta 0:00:14\n",
      "   ------------------- -------------------- 8.6/17.3 MB 657.7 kB/s eta 0:00:14\n",
      "   ------------------- -------------------- 8.6/17.3 MB 657.7 kB/s eta 0:00:14\n",
      "   -------------------- ------------------- 8.8/17.3 MB 663.1 kB/s eta 0:00:13\n",
      "   -------------------- ------------------- 8.9/17.3 MB 672.4 kB/s eta 0:00:13\n",
      "   -------------------- ------------------- 8.9/17.3 MB 669.2 kB/s eta 0:00:13\n",
      "   --------------------- ------------------ 9.2/17.3 MB 686.0 kB/s eta 0:00:12\n",
      "   --------------------- ------------------ 9.3/17.3 MB 689.7 kB/s eta 0:00:12\n",
      "   --------------------- ------------------ 9.5/17.3 MB 704.8 kB/s eta 0:00:12\n",
      "   ---------------------- ----------------- 9.7/17.3 MB 719.0 kB/s eta 0:00:11\n",
      "   ---------------------- ----------------- 9.8/17.3 MB 722.0 kB/s eta 0:00:11\n",
      "   ---------------------- ----------------- 9.8/17.3 MB 722.0 kB/s eta 0:00:11\n",
      "   ----------------------- ---------------- 10.0/17.3 MB 728.8 kB/s eta 0:00:11\n",
      "   ----------------------- ---------------- 10.2/17.3 MB 741.3 kB/s eta 0:00:10\n",
      "   ----------------------- ---------------- 10.2/17.3 MB 741.3 kB/s eta 0:00:10\n",
      "   ----------------------- ---------------- 10.2/17.3 MB 741.3 kB/s eta 0:00:10\n",
      "   ----------------------- ---------------- 10.2/17.3 MB 741.3 kB/s eta 0:00:10\n",
      "   ----------------------- ---------------- 10.2/17.3 MB 741.3 kB/s eta 0:00:10\n",
      "   ----------------------- ---------------- 10.3/17.3 MB 733.2 kB/s eta 0:00:10\n",
      "   ------------------------ --------------- 10.4/17.3 MB 1.0 MB/s eta 0:00:07\n",
      "   ------------------------ --------------- 10.7/17.3 MB 1.1 MB/s eta 0:00:06\n",
      "   ------------------------- -------------- 10.9/17.3 MB 1.2 MB/s eta 0:00:06\n",
      "   ------------------------- -------------- 11.1/17.3 MB 1.2 MB/s eta 0:00:06\n",
      "   -------------------------- ------------- 11.4/17.3 MB 1.3 MB/s eta 0:00:05\n",
      "   -------------------------- ------------- 11.4/17.3 MB 1.3 MB/s eta 0:00:05\n",
      "   -------------------------- ------------- 11.4/17.3 MB 1.3 MB/s eta 0:00:05\n",
      "   -------------------------- ------------- 11.6/17.3 MB 1.4 MB/s eta 0:00:05\n",
      "   --------------------------- ------------ 11.8/17.3 MB 1.5 MB/s eta 0:00:04\n",
      "   --------------------------- ------------ 11.8/17.3 MB 1.5 MB/s eta 0:00:04\n",
      "   --------------------------- ------------ 11.8/17.3 MB 1.5 MB/s eta 0:00:04\n",
      "   --------------------------- ------------ 11.8/17.3 MB 1.5 MB/s eta 0:00:04\n",
      "   --------------------------- ------------ 12.0/17.3 MB 1.5 MB/s eta 0:00:04\n",
      "   ---------------------------- ----------- 12.3/17.3 MB 1.5 MB/s eta 0:00:04\n",
      "   ---------------------------- ----------- 12.3/17.3 MB 1.5 MB/s eta 0:00:04\n",
      "   ----------------------------- ---------- 12.9/17.3 MB 1.7 MB/s eta 0:00:03\n",
      "   ------------------------------ --------- 13.1/17.3 MB 1.8 MB/s eta 0:00:03\n",
      "   ------------------------------- -------- 13.5/17.3 MB 1.9 MB/s eta 0:00:02\n",
      "   -------------------------------- ------- 13.9/17.3 MB 2.0 MB/s eta 0:00:02\n",
      "   -------------------------------- ------- 14.1/17.3 MB 2.0 MB/s eta 0:00:02\n",
      "   -------------------------------- ------- 14.2/17.3 MB 2.0 MB/s eta 0:00:02\n",
      "   --------------------------------- ------ 14.5/17.3 MB 2.1 MB/s eta 0:00:02\n",
      "   --------------------------------- ------ 14.5/17.3 MB 2.1 MB/s eta 0:00:02\n",
      "   --------------------------------- ------ 14.5/17.3 MB 2.1 MB/s eta 0:00:02\n",
      "   --------------------------------- ------ 14.6/17.3 MB 2.0 MB/s eta 0:00:02\n",
      "   ---------------------------------- ----- 14.8/17.3 MB 2.1 MB/s eta 0:00:02\n",
      "   ---------------------------------- ----- 15.0/17.3 MB 2.1 MB/s eta 0:00:02\n",
      "   ---------------------------------- ----- 15.0/17.3 MB 2.1 MB/s eta 0:00:02\n",
      "   ----------------------------------- ---- 15.2/17.3 MB 2.1 MB/s eta 0:00:02\n",
      "   ----------------------------------- ---- 15.4/17.3 MB 2.2 MB/s eta 0:00:01\n",
      "   ------------------------------------ --- 15.7/17.3 MB 2.4 MB/s eta 0:00:01\n",
      "   ------------------------------------ --- 15.7/17.3 MB 2.4 MB/s eta 0:00:01\n",
      "   ------------------------------------ --- 15.9/17.3 MB 2.4 MB/s eta 0:00:01\n",
      "   ------------------------------------- -- 16.3/17.3 MB 2.5 MB/s eta 0:00:01\n",
      "   -------------------------------------- - 16.7/17.3 MB 2.7 MB/s eta 0:00:01\n",
      "   -------------------------------------- - 16.9/17.3 MB 2.7 MB/s eta 0:00:01\n",
      "   -------------------------------------- - 16.9/17.3 MB 2.7 MB/s eta 0:00:01\n",
      "   -------------------------------------- - 16.9/17.3 MB 2.7 MB/s eta 0:00:01\n",
      "   ---------------------------------------  17.2/17.3 MB 2.7 MB/s eta 0:00:01\n",
      "   ---------------------------------------  17.3/17.3 MB 2.7 MB/s eta 0:00:01\n",
      "   ---------------------------------------  17.3/17.3 MB 2.7 MB/s eta 0:00:01\n",
      "   ---------------------------------------- 17.3/17.3 MB 2.6 MB/s eta 0:00:00\n",
      "Downloading tenacity-9.0.0-py3-none-any.whl (28 kB)\n",
      "Installing collected packages: tenacity, plotly\n",
      "Successfully installed plotly-5.23.0 tenacity-9.0.0\n"
     ]
    },
    {
     "name": "stderr",
     "output_type": "stream",
     "text": [
      "\n",
      "[notice] A new release of pip is available: 24.0 -> 24.2\n",
      "[notice] To update, run: python.exe -m pip install --upgrade pip\n"
     ]
    }
   ],
   "source": [
    "!pip install plotly\n",
    "import yfinance as yf\n",
    "import pandas as pd\n",
    "import requests\n",
    "from bs4 import BeautifulSoup\n",
    "import plotly.graph_objects as go\n",
    "from plotly.subplots import make_subplots"
   ]
  },
  {
   "cell_type": "markdown",
   "metadata": {},
   "source": [
    "In Python, you can ignore warnings using the warnings module. You can use the filterwarnings function to filter or ignore specific warning messages or categories.\n"
   ]
  },
  {
   "cell_type": "code",
   "execution_count": null,
   "metadata": {},
   "outputs": [],
   "source": [
    "import warnings\n",
    "# Ignore all warnings\n",
    "warnings.filterwarnings(\"ignore\", category=FutureWarning)"
   ]
  },
  {
   "cell_type": "markdown",
   "metadata": {},
   "source": [
    "## Define Graphing Function\n"
   ]
  },
  {
   "cell_type": "markdown",
   "metadata": {},
   "source": [
    "In this section, we define the function `make_graph`. **You don't have to know how the function works, you should only care about the inputs. It takes a dataframe with stock data (dataframe must contain Date and Close columns), a dataframe with revenue data (dataframe must contain Date and Revenue columns), and the name of the stock.**\n"
   ]
  },
  {
   "cell_type": "code",
   "execution_count": null,
   "metadata": {},
   "outputs": [],
   "source": [
    "def make_graph(stock_data, revenue_data, stock):\n",
    "    fig = make_subplots(rows=2, cols=1, shared_xaxes=True, subplot_titles=(\"Historical Share Price\", \"Historical Revenue\"), vertical_spacing = .3)\n",
    "    stock_data_specific = stock_data[stock_data.Date <= '2021--06-14']\n",
    "    revenue_data_specific = revenue_data[revenue_data.Date <= '2021-04-30']\n",
    "    fig.add_trace(go.Scatter(x=pd.to_datetime(stock_data_specific.Date), y=stock_data_specific.Close.astype(\"float\"), name=\"Share Price\"), row=1, col=1)\n",
    "    fig.add_trace(go.Scatter(x=pd.to_datetime(revenue_data_specific.Date), y=revenue_data_specific.Revenue.astype(\"float\"), name=\"Revenue\"), row=2, col=1)\n",
    "    fig.update_xaxes(title_text=\"Date\", row=1, col=1)\n",
    "    fig.update_xaxes(title_text=\"Date\", row=2, col=1)\n",
    "    fig.update_yaxes(title_text=\"Price ($US)\", row=1, col=1)\n",
    "    fig.update_yaxes(title_text=\"Revenue ($US Millions)\", row=2, col=1)\n",
    "    fig.update_layout(showlegend=False,\n",
    "    height=900,\n",
    "    title=stock,\n",
    "    xaxis_rangeslider_visible=True)\n",
    "    fig.show()"
   ]
  },
  {
   "cell_type": "markdown",
   "metadata": {},
   "source": [
    "Use the make_graph function that we’ve already defined. You’ll need to invoke it in questions 5 and 6 to display the graphs and create the dashboard. \n",
    "> **Note: You don’t need to redefine the function for plotting graphs anywhere else in this notebook; just use the existing function.**\n"
   ]
  },
  {
   "cell_type": "markdown",
   "metadata": {},
   "source": [
    "## Question 1: Use yfinance to Extract Stock Data\n"
   ]
  },
  {
   "cell_type": "markdown",
   "metadata": {},
   "source": [
    "Using the `Ticker` function enter the ticker symbol of the stock we want to extract data on to create a ticker object. The stock is Tesla and its ticker symbol is `TSLA`.\n"
   ]
  },
  {
   "cell_type": "code",
   "execution_count": 4,
   "metadata": {},
   "outputs": [
    {
     "data": {
      "text/plain": [
       "yfinance.Ticker object <TSLA>"
      ]
     },
     "execution_count": 4,
     "metadata": {},
     "output_type": "execute_result"
    }
   ],
   "source": [
    "Tesla=yf.Ticker(\"TSLA\")\n",
    "Tesla"
   ]
  },
  {
   "cell_type": "markdown",
   "metadata": {},
   "source": [
    "Using the ticker object and the function `history` extract stock information and save it in a dataframe named `tesla_data`. Set the `period` parameter to ` \"max\" ` so we get information for the maximum amount of time.\n"
   ]
  },
  {
   "cell_type": "code",
   "execution_count": 48,
   "metadata": {},
   "outputs": [],
   "source": [
    "tesla_data=Tesla.history(period=\"max\")\n"
   ]
  },
  {
   "cell_type": "markdown",
   "metadata": {},
   "source": [
    "**Reset the index** using the `reset_index(inplace=True)` function on the tesla_data DataFrame and display the first five rows of the `tesla_data` dataframe using the `head` function. Take a screenshot of the results and code from the beginning of Question 1 to the results below.\n"
   ]
  },
  {
   "cell_type": "code",
   "execution_count": 9,
   "metadata": {},
   "outputs": [
    {
     "data": {
      "text/html": [
       "<div>\n",
       "<style scoped>\n",
       "    .dataframe tbody tr th:only-of-type {\n",
       "        vertical-align: middle;\n",
       "    }\n",
       "\n",
       "    .dataframe tbody tr th {\n",
       "        vertical-align: top;\n",
       "    }\n",
       "\n",
       "    .dataframe thead th {\n",
       "        text-align: right;\n",
       "    }\n",
       "</style>\n",
       "<table border=\"1\" class=\"dataframe\">\n",
       "  <thead>\n",
       "    <tr style=\"text-align: right;\">\n",
       "      <th></th>\n",
       "      <th>index</th>\n",
       "      <th>Date</th>\n",
       "      <th>Open</th>\n",
       "      <th>High</th>\n",
       "      <th>Low</th>\n",
       "      <th>Close</th>\n",
       "      <th>Volume</th>\n",
       "      <th>Dividends</th>\n",
       "      <th>Stock Splits</th>\n",
       "    </tr>\n",
       "  </thead>\n",
       "  <tbody>\n",
       "    <tr>\n",
       "      <th>0</th>\n",
       "      <td>0</td>\n",
       "      <td>2010-06-29 00:00:00-04:00</td>\n",
       "      <td>1.266667</td>\n",
       "      <td>1.666667</td>\n",
       "      <td>1.169333</td>\n",
       "      <td>1.592667</td>\n",
       "      <td>281494500</td>\n",
       "      <td>0.0</td>\n",
       "      <td>0.0</td>\n",
       "    </tr>\n",
       "    <tr>\n",
       "      <th>1</th>\n",
       "      <td>1</td>\n",
       "      <td>2010-06-30 00:00:00-04:00</td>\n",
       "      <td>1.719333</td>\n",
       "      <td>2.028000</td>\n",
       "      <td>1.553333</td>\n",
       "      <td>1.588667</td>\n",
       "      <td>257806500</td>\n",
       "      <td>0.0</td>\n",
       "      <td>0.0</td>\n",
       "    </tr>\n",
       "    <tr>\n",
       "      <th>2</th>\n",
       "      <td>2</td>\n",
       "      <td>2010-07-01 00:00:00-04:00</td>\n",
       "      <td>1.666667</td>\n",
       "      <td>1.728000</td>\n",
       "      <td>1.351333</td>\n",
       "      <td>1.464000</td>\n",
       "      <td>123282000</td>\n",
       "      <td>0.0</td>\n",
       "      <td>0.0</td>\n",
       "    </tr>\n",
       "    <tr>\n",
       "      <th>3</th>\n",
       "      <td>3</td>\n",
       "      <td>2010-07-02 00:00:00-04:00</td>\n",
       "      <td>1.533333</td>\n",
       "      <td>1.540000</td>\n",
       "      <td>1.247333</td>\n",
       "      <td>1.280000</td>\n",
       "      <td>77097000</td>\n",
       "      <td>0.0</td>\n",
       "      <td>0.0</td>\n",
       "    </tr>\n",
       "    <tr>\n",
       "      <th>4</th>\n",
       "      <td>4</td>\n",
       "      <td>2010-07-06 00:00:00-04:00</td>\n",
       "      <td>1.333333</td>\n",
       "      <td>1.333333</td>\n",
       "      <td>1.055333</td>\n",
       "      <td>1.074000</td>\n",
       "      <td>103003500</td>\n",
       "      <td>0.0</td>\n",
       "      <td>0.0</td>\n",
       "    </tr>\n",
       "  </tbody>\n",
       "</table>\n",
       "</div>"
      ],
      "text/plain": [
       "   index                      Date      Open      High       Low     Close  \\\n",
       "0      0 2010-06-29 00:00:00-04:00  1.266667  1.666667  1.169333  1.592667   \n",
       "1      1 2010-06-30 00:00:00-04:00  1.719333  2.028000  1.553333  1.588667   \n",
       "2      2 2010-07-01 00:00:00-04:00  1.666667  1.728000  1.351333  1.464000   \n",
       "3      3 2010-07-02 00:00:00-04:00  1.533333  1.540000  1.247333  1.280000   \n",
       "4      4 2010-07-06 00:00:00-04:00  1.333333  1.333333  1.055333  1.074000   \n",
       "\n",
       "      Volume  Dividends  Stock Splits  \n",
       "0  281494500        0.0           0.0  \n",
       "1  257806500        0.0           0.0  \n",
       "2  123282000        0.0           0.0  \n",
       "3   77097000        0.0           0.0  \n",
       "4  103003500        0.0           0.0  "
      ]
     },
     "execution_count": 9,
     "metadata": {},
     "output_type": "execute_result"
    }
   ],
   "source": [
    "tesla_data.reset_index(inplace=True)\n",
    "tesla_data.head()"
   ]
  },
  {
   "cell_type": "markdown",
   "metadata": {},
   "source": [
    "## Question 2: Use Webscraping to Extract Tesla Revenue Data\n"
   ]
  },
  {
   "cell_type": "markdown",
   "metadata": {},
   "source": [
    "Use the `requests` library to download the webpage https://cf-courses-data.s3.us.cloud-object-storage.appdomain.cloud/IBMDeveloperSkillsNetwork-PY0220EN-SkillsNetwork/labs/project/revenue.htm Save the text of the response as a variable named `html_data`.\n"
   ]
  },
  {
   "cell_type": "code",
   "execution_count": 11,
   "metadata": {},
   "outputs": [],
   "source": [
    "url=\" https://cf-courses-data.s3.us.cloud-object-storage.appdomain.cloud/IBMDeveloperSkillsNetwork-PY0220EN-SkillsNetwork/labs/project/revenue.htm\""
   ]
  },
  {
   "cell_type": "markdown",
   "metadata": {},
   "source": [
    "Parse the html data using `beautiful_soup` using parser i.e `html5lib` or `html.parser`. Make sure to use the `html_data` with the content parameter as follow `html_data.content` .\n"
   ]
  },
  {
   "cell_type": "code",
   "execution_count": 49,
   "metadata": {},
   "outputs": [],
   "source": [
    "response=requests.get(url)\n",
    "soup=BeautifulSoup(response.content,\"html.parser\")\n",
    "\n"
   ]
  },
  {
   "cell_type": "markdown",
   "metadata": {},
   "source": [
    "Using `BeautifulSoup` or the `read_html` function extract the table with `Tesla Revenue` and store it into a dataframe named `tesla_revenue`. The dataframe should have columns `Date` and `Revenue`.\n"
   ]
  },
  {
   "cell_type": "markdown",
   "metadata": {},
   "source": [
    "<details><summary>Step-by-step instructions</summary>\n",
    "\n",
    "```\n",
    "\n",
    "Here are the step-by-step instructions:\n",
    "\n",
    "1. Find All Tables: Start by searching for all HTML tables on a webpage using `soup.find_all('table')`.\n",
    "2. Identify the Relevant Table: then loops through each table. If a table contains the text “Tesla Quarterly Revenue,”, select that table.\n",
    "3. Initialize a DataFrame: Create an empty Pandas DataFrame called `tesla_revenue` with columns “Date” and “Revenue.”\n",
    "4. Loop Through Rows: For each row in the relevant table, extract the data from the first and second columns (date and revenue).\n",
    "5. Clean Revenue Data: Remove dollar signs and commas from the revenue value.\n",
    "6. Add Rows to DataFrame: Create a new row in the DataFrame with the extracted date and cleaned revenue values.\n",
    "7. Repeat for All Rows: Continue this process for all rows in the table.\n",
    "\n",
    "```\n",
    "</details>\n"
   ]
  },
  {
   "cell_type": "markdown",
   "metadata": {},
   "source": [
    "<details><summary>Click here if you need help locating the table</summary>\n",
    "\n",
    "```\n",
    "    \n",
    "Below is the code to isolate the table, you will now need to loop through the rows and columns like in the previous lab\n",
    "    \n",
    "soup.find_all(\"tbody\")[1]\n",
    "    \n",
    "If you want to use the read_html function the table is located at index 1\n",
    "\n",
    "We are focusing on quarterly revenue in the lab.\n",
    "> Note: Instead of using the deprecated pd.append() method, consider using pd.concat([df, pd.DataFrame], ignore_index=True).\n",
    "```\n",
    "\n",
    "</details>\n"
   ]
  },
  {
   "cell_type": "code",
   "execution_count": 23,
   "metadata": {},
   "outputs": [
    {
     "name": "stdout",
     "output_type": "stream",
     "text": [
      "   Date  Revenue\n",
      "0  2021  $53,823\n",
      "1  2020  $31,536\n",
      "2  2019  $24,578\n",
      "3  2018  $21,461\n",
      "4  2017  $11,759\n"
     ]
    }
   ],
   "source": [
    "table = soup.find('table')\n",
    "tesla_revenue = pd.read_html(str(table))[0]\n",
    "tesla_revenue.columns = ['Date', 'Revenue']\n",
    "print(tesla_revenue.head())"
   ]
  },
  {
   "cell_type": "markdown",
   "metadata": {},
   "source": [
    "Execute the following line to remove the comma and dollar sign from the `Revenue` column. \n"
   ]
  },
  {
   "cell_type": "code",
   "execution_count": 50,
   "metadata": {},
   "outputs": [],
   "source": [
    "tesla_revenue[\"Revenue\"] = tesla_revenue['Revenue'].str.replace(r',|\\$',\"\", regex=True)"
   ]
  },
  {
   "cell_type": "markdown",
   "metadata": {},
   "source": [
    "Execute the following lines to remove an null or empty strings in the Revenue column.\n"
   ]
  },
  {
   "cell_type": "code",
   "execution_count": 25,
   "metadata": {},
   "outputs": [],
   "source": [
    "tesla_revenue.dropna(inplace=True)\n",
    "\n",
    "tesla_revenue = tesla_revenue[tesla_revenue['Revenue'] != \"\"]"
   ]
  },
  {
   "cell_type": "markdown",
   "metadata": {},
   "source": [
    "Display the last 5 row of the `tesla_revenue` dataframe using the `tail` function. Take a screenshot of the results.\n"
   ]
  },
  {
   "cell_type": "code",
   "execution_count": 26,
   "metadata": {},
   "outputs": [
    {
     "data": {
      "text/html": [
       "<div>\n",
       "<style scoped>\n",
       "    .dataframe tbody tr th:only-of-type {\n",
       "        vertical-align: middle;\n",
       "    }\n",
       "\n",
       "    .dataframe tbody tr th {\n",
       "        vertical-align: top;\n",
       "    }\n",
       "\n",
       "    .dataframe thead th {\n",
       "        text-align: right;\n",
       "    }\n",
       "</style>\n",
       "<table border=\"1\" class=\"dataframe\">\n",
       "  <thead>\n",
       "    <tr style=\"text-align: right;\">\n",
       "      <th></th>\n",
       "      <th>Date</th>\n",
       "      <th>Revenue</th>\n",
       "    </tr>\n",
       "  </thead>\n",
       "  <tbody>\n",
       "    <tr>\n",
       "      <th>8</th>\n",
       "      <td>2013</td>\n",
       "      <td>2013</td>\n",
       "    </tr>\n",
       "    <tr>\n",
       "      <th>9</th>\n",
       "      <td>2012</td>\n",
       "      <td>413</td>\n",
       "    </tr>\n",
       "    <tr>\n",
       "      <th>10</th>\n",
       "      <td>2011</td>\n",
       "      <td>204</td>\n",
       "    </tr>\n",
       "    <tr>\n",
       "      <th>11</th>\n",
       "      <td>2010</td>\n",
       "      <td>117</td>\n",
       "    </tr>\n",
       "    <tr>\n",
       "      <th>12</th>\n",
       "      <td>2009</td>\n",
       "      <td>112</td>\n",
       "    </tr>\n",
       "  </tbody>\n",
       "</table>\n",
       "</div>"
      ],
      "text/plain": [
       "    Date Revenue\n",
       "8   2013    2013\n",
       "9   2012     413\n",
       "10  2011     204\n",
       "11  2010     117\n",
       "12  2009     112"
      ]
     },
     "execution_count": 26,
     "metadata": {},
     "output_type": "execute_result"
    }
   ],
   "source": [
    "tesla_revenue.tail()"
   ]
  },
  {
   "cell_type": "markdown",
   "metadata": {},
   "source": [
    "## Question 3: Use yfinance to Extract Stock Data\n"
   ]
  },
  {
   "cell_type": "markdown",
   "metadata": {},
   "source": [
    "Using the `Ticker` function enter the ticker symbol of the stock we want to extract data on to create a ticker object. The stock is GameStop and its ticker symbol is `GME`.\n"
   ]
  },
  {
   "cell_type": "code",
   "execution_count": 27,
   "metadata": {},
   "outputs": [],
   "source": [
    "GameStop=yf.Ticker(\"GME\")"
   ]
  },
  {
   "cell_type": "markdown",
   "metadata": {},
   "source": [
    "Using the ticker object and the function `history` extract stock information and save it in a dataframe named `gme_data`. Set the `period` parameter to ` \"max\" ` so we get information for the maximum amount of time.\n"
   ]
  },
  {
   "cell_type": "code",
   "execution_count": 29,
   "metadata": {},
   "outputs": [],
   "source": [
    "gme_data=GameStop.history(period=\"max\")"
   ]
  },
  {
   "cell_type": "markdown",
   "metadata": {},
   "source": [
    "**Reset the index** using the `reset_index(inplace=True)` function on the gme_data DataFrame and display the first five rows of the `gme_data` dataframe using the `head` function. Take a screenshot of the results and code from the beginning of Question 3 to the results below.\n"
   ]
  },
  {
   "cell_type": "code",
   "execution_count": 30,
   "metadata": {},
   "outputs": [],
   "source": [
    "gme_data.reset_index(inplace=True)"
   ]
  },
  {
   "cell_type": "markdown",
   "metadata": {},
   "source": [
    "## Question 4: Use Webscraping to Extract GME Revenue Data\n"
   ]
  },
  {
   "cell_type": "markdown",
   "metadata": {},
   "source": [
    "Use the `requests` library to download the webpage https://cf-courses-data.s3.us.cloud-object-storage.appdomain.cloud/IBMDeveloperSkillsNetwork-PY0220EN-SkillsNetwork/labs/project/stock.html. Save the text of the response as a variable named `html_data_2`.\n"
   ]
  },
  {
   "cell_type": "code",
   "execution_count": 31,
   "metadata": {},
   "outputs": [],
   "source": [
    "url=\" https://cf-courses-data.s3.us.cloud-object-storage.appdomain.cloud/IBMDeveloperSkillsNetwork-PY0220EN-SkillsNetwork/labs/project/stock.html\""
   ]
  },
  {
   "cell_type": "markdown",
   "metadata": {},
   "source": [
    "Parse the html data using `beautiful_soup` using parser i.e `html5lib` or `html.parser`.\n"
   ]
  },
  {
   "cell_type": "code",
   "execution_count": 34,
   "metadata": {},
   "outputs": [],
   "source": [
    "res=requests.get(url)\n",
    "soup=BeautifulSoup(res.content,\"html.parser\")\n",
    "gme_revenue = pd.read_html(str(table))[0]\n"
   ]
  },
  {
   "cell_type": "markdown",
   "metadata": {},
   "source": [
    "Using `BeautifulSoup` or the `read_html` function extract the table with `GameStop Revenue` and store it into a dataframe named `gme_revenue`. The dataframe should have columns `Date` and `Revenue`. Make sure the comma and dollar sign is removed from the `Revenue` column.\n"
   ]
  },
  {
   "cell_type": "markdown",
   "metadata": {},
   "source": [
    "> **Note: Use the method similar to what you did in question 2.**  \n"
   ]
  },
  {
   "cell_type": "markdown",
   "metadata": {},
   "source": [
    "<details><summary>Click here if you need help locating the table</summary>\n",
    "\n",
    "```\n",
    "    \n",
    "Below is the code to isolate the table, you will now need to loop through the rows and columns like in the previous lab\n",
    "    \n",
    "soup.find_all(\"tbody\")[1]\n",
    "    \n",
    "If you want to use the read_html function the table is located at index 1\n",
    "\n",
    "\n",
    "```\n",
    "\n",
    "</details>\n"
   ]
  },
  {
   "cell_type": "code",
   "execution_count": 51,
   "metadata": {},
   "outputs": [],
   "source": [
    "gme_revenue.columns = ['Date', 'Revenue']\n",
    "gme_revenue[\"Revenue\"] = gme_revenue['Revenue'].str.replace(r',|\\$',\"\", regex=True)"
   ]
  },
  {
   "cell_type": "markdown",
   "metadata": {},
   "source": [
    "Display the last five rows of the `gme_revenue` dataframe using the `tail` function. Take a screenshot of the results.\n"
   ]
  },
  {
   "cell_type": "code",
   "execution_count": 37,
   "metadata": {},
   "outputs": [
    {
     "data": {
      "text/html": [
       "<div>\n",
       "<style scoped>\n",
       "    .dataframe tbody tr th:only-of-type {\n",
       "        vertical-align: middle;\n",
       "    }\n",
       "\n",
       "    .dataframe tbody tr th {\n",
       "        vertical-align: top;\n",
       "    }\n",
       "\n",
       "    .dataframe thead th {\n",
       "        text-align: right;\n",
       "    }\n",
       "</style>\n",
       "<table border=\"1\" class=\"dataframe\">\n",
       "  <thead>\n",
       "    <tr style=\"text-align: right;\">\n",
       "      <th></th>\n",
       "      <th>Date</th>\n",
       "      <th>Revenue</th>\n",
       "    </tr>\n",
       "  </thead>\n",
       "  <tbody>\n",
       "    <tr>\n",
       "      <th>8</th>\n",
       "      <td>2013</td>\n",
       "      <td>2013</td>\n",
       "    </tr>\n",
       "    <tr>\n",
       "      <th>9</th>\n",
       "      <td>2012</td>\n",
       "      <td>413</td>\n",
       "    </tr>\n",
       "    <tr>\n",
       "      <th>10</th>\n",
       "      <td>2011</td>\n",
       "      <td>204</td>\n",
       "    </tr>\n",
       "    <tr>\n",
       "      <th>11</th>\n",
       "      <td>2010</td>\n",
       "      <td>117</td>\n",
       "    </tr>\n",
       "    <tr>\n",
       "      <th>12</th>\n",
       "      <td>2009</td>\n",
       "      <td>112</td>\n",
       "    </tr>\n",
       "  </tbody>\n",
       "</table>\n",
       "</div>"
      ],
      "text/plain": [
       "    Date Revenue\n",
       "8   2013    2013\n",
       "9   2012     413\n",
       "10  2011     204\n",
       "11  2010     117\n",
       "12  2009     112"
      ]
     },
     "execution_count": 37,
     "metadata": {},
     "output_type": "execute_result"
    }
   ],
   "source": [
    "gme_revenue.tail()\n"
   ]
  },
  {
   "cell_type": "markdown",
   "metadata": {},
   "source": [
    "## Question 5: Plot Tesla Stock Graph\n"
   ]
  },
  {
   "cell_type": "markdown",
   "metadata": {},
   "source": [
    "Use the `make_graph` function to graph the Tesla Stock Data, also provide a title for the graph. Note the graph will only show data upto June 2021.\n"
   ]
  },
  {
   "cell_type": "markdown",
   "metadata": {},
   "source": [
    "<details><summary>Hint</summary>\n",
    "\n",
    "```\n",
    "\n",
    "You just need to invoke the make_graph function with the required parameter to print the graphs.The structure to call the `make_graph` function is `make_graph(tesla_data, tesla_revenue, 'Tesla')`.\n",
    "\n",
    "```\n",
    "    \n",
    "</details>\n"
   ]
  },
  {
   "cell_type": "code",
   "execution_count": null,
   "metadata": {},
   "outputs": [],
   "source": [
    "make_graph(tesla_data,tesla_revenue,'Tesla')"
   ]
  },
  {
   "cell_type": "markdown",
   "metadata": {},
   "source": [
    "## Question 6: Plot GameStop Stock Graph\n"
   ]
  },
  {
   "cell_type": "markdown",
   "metadata": {},
   "source": [
    "Use the `make_graph` function to graph the GameStop Stock Data, also provide a title for the graph. The structure to call the `make_graph` function is `make_graph(gme_data, gme_revenue, 'GameStop')`. Note the graph will only show data upto June 2021.\n"
   ]
  },
  {
   "cell_type": "markdown",
   "metadata": {},
   "source": [
    "<details><summary>Hint</summary>\n",
    "\n",
    "```\n",
    "\n",
    "You just need to invoke the make_graph function with the required parameter to print the graphs.The structure to call the `make_graph` function is `make_graph(gme_data, gme_revenue, 'GameStop')`\n",
    "\n",
    "```\n",
    "    \n",
    "</details>\n"
   ]
  },
  {
   "cell_type": "code",
   "execution_count": null,
   "metadata": {},
   "outputs": [],
   "source": [
    "make_graph(gme_data,gme_revenue,'GameStop')"
   ]
  },
  {
   "cell_type": "markdown",
   "metadata": {},
   "source": [
    "<h2>About the Authors:</h2> \n",
    "\n",
    "<a href=\"https://www.linkedin.com/in/joseph-s-50398b136/\">Joseph Santarcangelo</a> has a PhD in Electrical Engineering, his research focused on using machine learning, signal processing, and computer vision to determine how videos impact human cognition. Joseph has been working for IBM since he completed his PhD.\n"
   ]
  },
  {
   "cell_type": "markdown",
   "metadata": {},
   "source": [
    "## <h3 align=\"center\"> © IBM Corporation 2020. All rights reserved. <h3/>\n",
    "\n",
    "```toggle ## Change Log\n",
    "```\n",
    "```toggle | Date (YYYY-MM-DD) | Version | Changed By    | Change Description        |\n",
    "```\n",
    "```toggle | ----------------- | ------- | ------------- | ------------------------- |\n",
    "```\n",
    "```toggle | 2022-02-28        | 1.2     | Lakshmi Holla | Changed the URL of GameStop |\n",
    "```\n",
    "```toggle | 2020-11-10        | 1.1     | Malika Singla | Deleted the Optional part |\n",
    "```\n",
    "```toggle | 2020-08-27        | 1.0     | Malika Singla | Added lab to GitLab       |\n",
    "```\n"
   ]
  }
 ],
 "metadata": {
  "kernelspec": {
   "display_name": "Python 3 (ipykernel)",
   "language": "python",
   "name": "python3"
  },
  "language_info": {
   "codemirror_mode": {
    "name": "ipython",
    "version": 3
   },
   "file_extension": ".py",
   "mimetype": "text/x-python",
   "name": "python",
   "nbconvert_exporter": "python",
   "pygments_lexer": "ipython3",
   "version": "3.12.4"
  },
  "prev_pub_hash": "3eff379447b11bb93fcfe9128340484c280bbca92c51ece98405a1f05537425b"
 },
 "nbformat": 4,
 "nbformat_minor": 4
}
